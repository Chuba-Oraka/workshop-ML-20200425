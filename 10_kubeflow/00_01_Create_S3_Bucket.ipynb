{
 "cells": [
  {
   "cell_type": "markdown",
   "metadata": {},
   "source": [
    "# 1. Create S3 Bucket (If Not Already Created)\n"
   ]
  },
  {
   "cell_type": "code",
   "execution_count": 1,
   "metadata": {},
   "outputs": [
    {
     "name": "stdout",
     "output_type": "stream",
     "text": [
      "export S3_BUCKET=sagemaker-us-west-2-903253828154\n",
      "                           PRE amazon-reviews-pds/\n",
      "                           PRE amazon-reviews-spark-analyzer-2020-04-25-18-20-00/\n",
      "                           PRE amazon-reviews-spark-analyzer-2020-04-25-18-32-35/\n",
      "                           PRE amazon-reviews-spark-analyzer-2020-04-25-18-34-01/\n",
      "                           PRE amazon-reviews-spark-analyzer-2020-04-25-18-38-27/\n",
      "                           PRE amazon-reviews-spark-analyzer-2020-04-25-18-43-16/\n",
      "                           PRE amazon-reviews-spark-processor-2020-04-25-19-25-41/\n",
      "                           PRE athena/\n",
      "                           PRE data/\n",
      "                           PRE models/\n",
      "                           PRE sagemaker-scikit-learn-2020-04-25-18-57-56-806/\n",
      "                           PRE sagemaker-scikit-learn-2020-04-25-19-04-48-131/\n",
      "                           PRE sagemaker-scikit-learn-2020-04-25-19-24-12-990/\n",
      "                           PRE sagemaker-scikit-learn-2020-04-25-19-45-55-932/\n",
      "                           PRE spark-amazon-reviews-analyzer-2020-04-25-18-20-00-416/\n",
      "                           PRE spark-amazon-reviews-analyzer-2020-04-25-18-32-35-463/\n",
      "                           PRE spark-amazon-reviews-analyzer-2020-04-25-18-34-01-298/\n",
      "                           PRE spark-amazon-reviews-analyzer-2020-04-25-18-38-27-386/\n",
      "                           PRE spark-amazon-reviews-analyzer-2020-04-25-18-43-16-830/\n",
      "                           PRE spark-amazon-reviews-processor-2020-04-25-19-25-41-471/\n",
      "Completed\n"
     ]
    }
   ],
   "source": [
    "%%bash\n",
    "\n",
    "export S3_BUCKET=sagemaker-$(aws configure get region)-$(aws sts get-caller-identity | jq -r '.Account')\n",
    "echo \"export S3_BUCKET=${S3_BUCKET}\" | tee -a ~/.bash_profile\n",
    "\n",
    "# Create a new S3 bucket and upload the dataset. \n",
    "aws s3 ls s3://$S3_BUCKET || aws s3 mb s3://${S3_BUCKET}\n",
    "\n",
    "echo \"Completed\"\n"
   ]
  },
  {
   "cell_type": "markdown",
   "metadata": {},
   "source": [
    "# 2. Verify S3_BUCKET Env Variable"
   ]
  },
  {
   "cell_type": "code",
   "execution_count": 2,
   "metadata": {},
   "outputs": [
    {
     "name": "stdout",
     "output_type": "stream",
     "text": [
      "sagemaker-us-west-2-903253828154\n"
     ]
    }
   ],
   "source": [
    "%%bash\n",
    "\n",
    "source ~/.bash_profile\n",
    "\n",
    "echo \"${S3_BUCKET}\"\n"
   ]
  },
  {
   "cell_type": "markdown",
   "metadata": {},
   "source": [
    "# 3. Verify S3_BUCKET Bucket Creation"
   ]
  },
  {
   "cell_type": "code",
   "execution_count": 3,
   "metadata": {},
   "outputs": [
    {
     "name": "stdout",
     "output_type": "stream",
     "text": [
      "                           PRE amazon-reviews-pds/\n",
      "                           PRE amazon-reviews-spark-analyzer-2020-04-25-18-20-00/\n",
      "                           PRE amazon-reviews-spark-analyzer-2020-04-25-18-32-35/\n",
      "                           PRE amazon-reviews-spark-analyzer-2020-04-25-18-34-01/\n",
      "                           PRE amazon-reviews-spark-analyzer-2020-04-25-18-38-27/\n",
      "                           PRE amazon-reviews-spark-analyzer-2020-04-25-18-43-16/\n",
      "                           PRE amazon-reviews-spark-processor-2020-04-25-19-25-41/\n",
      "                           PRE athena/\n",
      "                           PRE data/\n",
      "                           PRE models/\n",
      "                           PRE sagemaker-scikit-learn-2020-04-25-18-57-56-806/\n",
      "                           PRE sagemaker-scikit-learn-2020-04-25-19-04-48-131/\n",
      "                           PRE sagemaker-scikit-learn-2020-04-25-19-24-12-990/\n",
      "                           PRE sagemaker-scikit-learn-2020-04-25-19-45-55-932/\n",
      "                           PRE spark-amazon-reviews-analyzer-2020-04-25-18-20-00-416/\n",
      "                           PRE spark-amazon-reviews-analyzer-2020-04-25-18-32-35-463/\n",
      "                           PRE spark-amazon-reviews-analyzer-2020-04-25-18-34-01-298/\n",
      "                           PRE spark-amazon-reviews-analyzer-2020-04-25-18-38-27-386/\n",
      "                           PRE spark-amazon-reviews-analyzer-2020-04-25-18-43-16-830/\n",
      "                           PRE spark-amazon-reviews-processor-2020-04-25-19-25-41-471/\n"
     ]
    }
   ],
   "source": [
    "%%bash\n",
    "\n",
    "source ~/.bash_profile\n",
    "\n",
    "aws s3 ls s3://${S3_BUCKET}\n"
   ]
  },
  {
   "cell_type": "code",
   "execution_count": null,
   "metadata": {},
   "outputs": [],
   "source": []
  }
 ],
 "metadata": {
  "kernelspec": {
   "display_name": "conda_python3",
   "language": "python",
   "name": "conda_python3"
  },
  "language_info": {
   "codemirror_mode": {
    "name": "ipython",
    "version": 3
   },
   "file_extension": ".py",
   "mimetype": "text/x-python",
   "name": "python",
   "nbconvert_exporter": "python",
   "pygments_lexer": "ipython3",
   "version": "3.6.5"
  }
 },
 "nbformat": 4,
 "nbformat_minor": 4
}
